{
 "cells": [
  {
   "cell_type": "code",
   "execution_count": 18,
   "metadata": {},
   "outputs": [
    {
     "name": "stdout",
     "output_type": "stream",
     "text": [
      "Enter 1st  number a=56\n",
      "Enter 2nd number  b=44\n",
      "a+b= 100\n",
      "a-b= 12\n",
      "a*b= 2464\n",
      "a/b= 1.2727272727272727\n",
      "a//b= 1\n",
      "a%2= 0\n",
      "a**2= 3136\n"
     ]
    }
   ],
   "source": [
    "#Arithmetic operators\n",
    "#Accept 2 numbers and perform addition,substraction,multiplication,division\n",
    "a=int(input(\"Enter 1st  number a=\"))\n",
    "b=int(input(\"Enter 2nd number  b=\"))\n",
    "res=a+b\n",
    "print(\"a+b=\",res)\n",
    "res=a-b\n",
    "print(\"a-b=\",res)\n",
    "res=a*b\n",
    "print(\"a*b=\",res)\n",
    "res=a/b\n",
    "print(\"a/b=\",res)\n",
    "res=a//b\n",
    "print(\"a//b=\",res)\n",
    "res=a%2\n",
    "print(\"a%2=\",res)\n",
    "res=a**2\n",
    "print(\"a**2=\",res)"
   ]
  },
  {
   "cell_type": "code",
   "execution_count": 37,
   "metadata": {},
   "outputs": [
    {
     "name": "stdout",
     "output_type": "stream",
     "text": [
      "Enter 1st  number a=90\n",
      "Enter 2nd number  b=68\n",
      "Enter 3rd number  c=45\n",
      "a<b False\n",
      "b>=c True\n",
      "d==c True\n",
      "a!=b True\n",
      "d==c is not a!=b True\n",
      "b==c is d==c False\n"
     ]
    }
   ],
   "source": [
    "#Comparision operators and is ,is not\n",
    "a=int(input(\"Enter 1st  number a=\"))\n",
    "b=int(input(\"Enter 2nd number  b=\"))\n",
    "c=int(input(\"Enter 3rd number  c=\"))\n",
    "d=c\n",
    "print(\"a<b\",a<b)\n",
    "print(\"b>=c\",b>=c)\n",
    "print(\"d==c\",d==c)\n",
    "print(\"a!=b\",a!=b)\n",
    "print(\"d==c is not a!=b\",d==c is not a!=b)\n",
    "print(\"b==c is d==c\",b==c is d==c) \n"
   ]
  },
  {
   "cell_type": "code",
   "execution_count": 29,
   "metadata": {},
   "outputs": [
    {
     "name": "stdout",
     "output_type": "stream",
     "text": [
      "Enter 1st  number a=45\n",
      "Enter 2nd number  b=35\n",
      "Enter 3rd number  c=25\n",
      "a+=5 ans is 50\n",
      "b-=5 ans is 40\n",
      "c/=5 ans is 5.0\n",
      "a=  45\n",
      "a=a|5 ans is 45\n",
      "b= 35\n",
      "b|=5 ans is 39\n",
      "c= 25\n",
      "c^=2 ans is 27\n",
      "a= 45\n",
      "a>>=5 ans is 1\n",
      "a= 45\n",
      "a<<=5 ans is 1440\n"
     ]
    }
   ],
   "source": [
    "#asignment operators\n",
    "a=int(input(\"Enter 1st  number a=\"))\n",
    "b=int(input(\"Enter 2nd number  b=\"))\n",
    "c=int(input(\"Enter 3rd number  c=\"))\n",
    "print(\"a+=5 ans is\",a+5)\n",
    "print(\"b-=5 ans is\",a-5)\n",
    "print(\"c/=5 ans is\",c/5)\n",
    "print(\"a= \",a)\n",
    "print(\"a=a|5 ans is\",a|5)\n",
    "print(\"b=\",b)\n",
    "print(\"b|=5 ans is\",b|5)\n",
    "print(\"c=\",c)\n",
    "print(\"c^=2 ans is\",c^2)\n",
    "print(\"a=\",a)\n",
    "print(\"a>>=5 ans is\",a>>5)\n",
    "print(\"a=\",a)\n",
    "print(\"a<<=5 ans is\",a<<5)"
   ]
  },
  {
   "cell_type": "code",
   "execution_count": 38,
   "metadata": {},
   "outputs": [
    {
     "name": "stdout",
     "output_type": "stream",
     "text": [
      "Enter 1st  number a=56\n",
      "Enter 2nd number  b=45\n",
      "Enter 3rd number  c=23\n",
      "a|b&b 61\n",
      "a&b&a 40\n",
      "a^c|a&b 47\n"
     ]
    }
   ],
   "source": [
    "#Bitwise operators\n",
    "a=int(input(\"Enter 1st  number a=\"))\n",
    "b=int(input(\"Enter 2nd number  b=\"))\n",
    "c=int(input(\"Enter 3rd number  c=\"))\n",
    "print(\"a|b&b\",a|b&b)\n",
    "print(\"a&b&a\",a&b&a)\n",
    "print(\"a^c|a&b\",a^c|a&b)"
   ]
  },
  {
   "cell_type": "code",
   "execution_count": 32,
   "metadata": {},
   "outputs": [
    {
     "name": "stdout",
     "output_type": "stream",
     "text": [
      "False\n",
      "True\n",
      "False\n"
     ]
    }
   ],
   "source": [
    "# Examples of Identity operators \n",
    "a1 = 4\n",
    "b1 = 4\n",
    "a2 = 'ShilpaKate'\n",
    "b2 = 'ShilpaKate'\n",
    "a3 = [1,2,4] \n",
    "b3 = [1,2,4] \n",
    "  \n",
    "  \n",
    "print(a1 is not b1) \n",
    "  \n",
    "print(a2 is b2)   \n",
    " \n",
    "print(a3 is b3)"
   ]
  },
  {
   "cell_type": "code",
   "execution_count": 39,
   "metadata": {},
   "outputs": [
    {
     "name": "stdout",
     "output_type": "stream",
     "text": [
      "True\n",
      "False\n",
      "True\n",
      "True\n",
      "False\n"
     ]
    }
   ],
   "source": [
    "# Examples of Membership operator \n",
    "x = 'Hello hi bye'\n",
    "y = {3:'a',4:'b'} \n",
    "  \n",
    "  \n",
    "print('h' in x) \n",
    "  \n",
    "print('Hello' not in x) \n",
    "  \n",
    "print('Welcome' not in x) \n",
    "  \n",
    "print(3 in y) \n",
    "  \n",
    "print('b' in y) "
   ]
  },
  {
   "cell_type": "code",
   "execution_count": null,
   "metadata": {},
   "outputs": [],
   "source": []
  }
 ],
 "metadata": {
  "kernelspec": {
   "display_name": "Python 3",
   "language": "python",
   "name": "python3"
  },
  "language_info": {
   "codemirror_mode": {
    "name": "ipython",
    "version": 3
   },
   "file_extension": ".py",
   "mimetype": "text/x-python",
   "name": "python",
   "nbconvert_exporter": "python",
   "pygments_lexer": "ipython3",
   "version": "3.7.6"
  }
 },
 "nbformat": 4,
 "nbformat_minor": 4
}
