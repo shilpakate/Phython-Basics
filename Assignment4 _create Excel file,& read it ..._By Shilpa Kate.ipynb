{
 "cells": [
  {
   "cell_type": "code",
   "execution_count": 1,
   "metadata": {},
   "outputs": [
    {
     "name": "stdout",
     "output_type": "stream",
     "text": [
      "Requirement already satisfied: xlsxwriter in c:\\programdata\\anaconda3\\lib\\site-packages (1.2.7)\n",
      "Note: you may need to restart the kernel to use updated packages.\n"
     ]
    }
   ],
   "source": [
    "pip install xlsxwriter"
   ]
  },
  {
   "cell_type": "code",
   "execution_count": null,
   "metadata": {},
   "outputs": [],
   "source": [
    "pip install xlrd"
   ]
  },
  {
   "cell_type": "code",
   "execution_count": 96,
   "metadata": {},
   "outputs": [],
   "source": [
    "\n",
    "# import xlsxwriter module \n",
    "import xlsxwriter \n",
    "  \n",
    "workbook = xlsxwriter.Workbook('Example1.xlsx') \n",
    "  \n",
    "worksheet = workbook.add_worksheet(\"My sheet\")\n",
    "\n",
    "scores = ( ['Name', 'marks'],   ['rahul',   100], ['priya',  300],   ['harshita',    50],  ['harsha',    110]\n",
    ") \n",
    "\n",
    "# Start from the first cell. Rows and \n",
    "# columns are zero indexed. \n",
    "row = 0\n",
    "col = 0\n",
    "  \n",
    "# Iterate over the data and write it out row by row. \n",
    "for name, score in (scores): \n",
    "    worksheet.write(row, col, name) \n",
    "    worksheet.write(row, col + 1, score) \n",
    "    row += 1\n",
    "   \n",
    "  \n",
    "workbook.close() "
   ]
  },
  {
   "cell_type": "code",
   "execution_count": 97,
   "metadata": {},
   "outputs": [
    {
     "name": "stdout",
     "output_type": "stream",
     "text": [
      "5\n",
      "2\n"
     ]
    }
   ],
   "source": [
    "import openpyxl\n",
    "my_path = \"C:\\work\\code\\Example1.xlsx\"\n",
    "my_wb_obj = openpyxl.load_workbook(my_path)\n",
    "my_sheet_obj = my_wb_obj.active\n",
    "print(my_sheet_obj.max_row)\n",
    "print(my_sheet_obj.max_column)"
   ]
  },
  {
   "cell_type": "code",
   "execution_count": 98,
   "metadata": {},
   "outputs": [
    {
     "name": "stdout",
     "output_type": "stream",
     "text": [
      "       Name  marks\n",
      "0     rahul    100\n",
      "1     priya    300\n",
      "2  harshita     50\n",
      "3    harsha    110\n"
     ]
    }
   ],
   "source": [
    "import pandas as pd\n",
    "df = pd.read_excel(r'Example1.xlsx')\n",
    "print(df)"
   ]
  },
  {
   "cell_type": "code",
   "execution_count": 18,
   "metadata": {},
   "outputs": [],
   "source": [
    "from openpyxl import Workbook\n",
    "from openpyxl.chart import (\n",
    "    Reference,\n",
    "    Series,\n",
    "    BarChart\n",
    ")\n",
    "\n",
    "book = Workbook()\n",
    "sheet = book.active\n",
    "\n",
    "rows = [(\"Country\",\"medals\"),\n",
    "    (\"USA\", 46),\n",
    "    (\"China\", 38),\n",
    "    (\"UK\", 29),\n",
    "    (\"Russia\", 22),\n",
    "    (\"South Korea\", 13),\n",
    "    (\"Germany\", 11)\n",
    "]\n",
    "\n",
    "for row in rows:\n",
    "    sheet.append(row)\n",
    "    \n",
    "data = Reference(sheet, min_col=2, min_row=1, max_col=2, max_row=6)\n",
    "categs = Reference(sheet, min_col=1, min_row=1, max_row=6)\n",
    "\n",
    "chart = BarChart()\n",
    "chart.add_data(data=data)\n",
    "chart.set_categories(categs)\n",
    "\n",
    "chart.legend = None\n",
    "chart.y_axis.majorGridlines = None\n",
    "chart.varyColors = True\n",
    "chart.title = \"Olympic Gold medals in London\"\n",
    "\n",
    "sheet.add_chart(chart, \"A8\")    \n",
    "\n",
    "book.save(\"bar_chart.xlsx\")\n"
   ]
  },
  {
   "cell_type": "code",
   "execution_count": 27,
   "metadata": {},
   "outputs": [
    {
     "name": "stdout",
     "output_type": "stream",
     "text": [
      "       Country  medals\n",
      "0          USA      46\n",
      "1        China      38\n",
      "2           UK      29\n",
      "3       Russia      22\n",
      "4  South Korea      13\n",
      "5      Germany      11\n"
     ]
    }
   ],
   "source": [
    "import pandas as pd\n",
    "\n",
    "data = pd.read_excel (r'bar_chart.xlsx') \n",
    "print (df)"
   ]
  },
  {
   "cell_type": "code",
   "execution_count": null,
   "metadata": {},
   "outputs": [],
   "source": [
    "import tkinter as tk\n",
    "from tkinter import filedialog\n",
    "import pandas as pd\n",
    "\n",
    "root= tk.Tk()\n",
    "\n",
    "canvas1 = tk.Canvas(root, width = 300, height = 300, bg = 'lightsteelblue')\n",
    "canvas1.pack()\n",
    "\n",
    "def getExcel ():\n",
    "    global df\n",
    "    \n",
    "    import_file_path = filedialog.askopenfilename()\n",
    "    df = pd.read_excel (import_file_path)\n",
    "    print (df)\n",
    "    \n",
    "browseButton_Excel = tk.Button(text='Import Excel File', command=getExcel, bg='green', fg='white', font=('helvetica', 12, 'bold'))\n",
    "canvas1.create_window(150, 150, window=browseButton_Excel)\n",
    "\n",
    "root.mainloop()"
   ]
  },
  {
   "cell_type": "code",
   "execution_count": null,
   "metadata": {},
   "outputs": [],
   "source": []
  },
  {
   "cell_type": "code",
   "execution_count": null,
   "metadata": {},
   "outputs": [],
   "source": []
  },
  {
   "cell_type": "code",
   "execution_count": null,
   "metadata": {},
   "outputs": [],
   "source": []
  },
  {
   "cell_type": "code",
   "execution_count": null,
   "metadata": {},
   "outputs": [],
   "source": []
  }
 ],
 "metadata": {
  "kernelspec": {
   "display_name": "Python 3",
   "language": "python",
   "name": "python3"
  },
  "language_info": {
   "codemirror_mode": {
    "name": "ipython",
    "version": 3
   },
   "file_extension": ".py",
   "mimetype": "text/x-python",
   "name": "python",
   "nbconvert_exporter": "python",
   "pygments_lexer": "ipython3",
   "version": "3.7.6"
  }
 },
 "nbformat": 4,
 "nbformat_minor": 4
}
