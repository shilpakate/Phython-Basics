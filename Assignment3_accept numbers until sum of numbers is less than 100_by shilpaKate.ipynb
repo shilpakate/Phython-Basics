{
 "cells": [
  {
   "cell_type": "markdown",
   "metadata": {},
   "source": [
    "#Asignment_no3:- accept numbers until sum of numbers is less than 100"
   ]
  },
  {
   "cell_type": "code",
   "execution_count": 21,
   "metadata": {},
   "outputs": [
    {
     "name": "stdout",
     "output_type": "stream",
     "text": [
      "enter number to add to sum\n",
      "enter o to quit\n",
      "current sum 0\n",
      "enter a number23\n",
      "total sum 23.0\n",
      "current sum 23.0\n",
      "enter a number34\n",
      "total sum 57.0\n",
      "current sum 57.0\n",
      "enter a number56\n",
      "113.0 this number  greater than or equall to 100\n"
     ]
    }
   ],
   "source": [
    "\n",
    "a=1\n",
    "s=0\n",
    "x=0\n",
    "print('enter number to add to sum')\n",
    "print('enter o to quit')\n",
    "while a!=100:\n",
    "    print('current sum',s)\n",
    "    a=float(input('enter a number'))\n",
    "    s=s+a    \n",
    "    if(s>=100):\n",
    "        print(s,\"this number  greater than or equall to 100\")\n",
    "        break\n",
    "    else:\n",
    "       print(\"total sum\",s)\n"
   ]
  },
  {
   "cell_type": "code",
   "execution_count": null,
   "metadata": {},
   "outputs": [],
   "source": []
  },
  {
   "cell_type": "code",
   "execution_count": null,
   "metadata": {},
   "outputs": [],
   "source": []
  }
 ],
 "metadata": {
  "kernelspec": {
   "display_name": "Python 3",
   "language": "python",
   "name": "python3"
  },
  "language_info": {
   "codemirror_mode": {
    "name": "ipython",
    "version": 3
   },
   "file_extension": ".py",
   "mimetype": "text/x-python",
   "name": "python",
   "nbconvert_exporter": "python",
   "pygments_lexer": "ipython3",
   "version": "3.7.6"
  }
 },
 "nbformat": 4,
 "nbformat_minor": 4
}
